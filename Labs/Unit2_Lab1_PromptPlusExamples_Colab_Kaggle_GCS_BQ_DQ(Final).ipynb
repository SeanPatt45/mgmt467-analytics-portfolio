{
  "cells": [
    {
      "cell_type": "markdown",
      "metadata": {
        "id": "ok9B9nf1u2eD"
      },
      "source": [
        "# MGMT 467 — Prompt-Driven Lab (with Commented Examples)\n",
        "## Kaggle ➜ Google Cloud Storage ➜ BigQuery ➜ Data Quality (DQ)\n",
        "\n",
        "**How to use this notebook**\n",
        "- Each section gives you a **Build Prompt** to paste into Gemini/Vertex AI (or Gemini in Colab).\n",
        "- Below each prompt, you’ll see a **commented example** of what a good LLM answer might look like.\n",
        "- **Do not** just uncomment and run. Use the prompt to generate your own code, then compare to the example.\n",
        "- After every step, run the **Verification Prompt**, and write the **Reflection** in Markdown.\n",
        "\n",
        "> Goal today: Download the Netflix dataset (Kaggle) → Stage on GCS → Load into BigQuery → Run DQ profiling (missingness, duplicates, outliers, anomaly flags).\n"
      ],
      "id": "ok9B9nf1u2eD"
    },
    {
      "cell_type": "markdown",
      "metadata": {
        "id": "2mRcsGMzu2eG"
      },
      "source": [
        "### Academic integrity & LLM usage\n",
        "- Use the prompts here to generate your own code cells.\n",
        "- Read concept notes and write the reflection answers in your own words.\n",
        "- Keep credentials out of code. Upload `kaggle.json` when asked.\n"
      ],
      "id": "2mRcsGMzu2eG"
    },
    {
      "cell_type": "markdown",
      "metadata": {
        "id": "755MYLr1u2eG"
      },
      "source": [
        "## Learning objectives\n",
        "1) Explain **why** we stage data in GCS and load it to BigQuery.  \n",
        "2) Build an **idempotent**, auditable pipeline.  \n",
        "3) Diagnose **missingness**, **duplicates**, and **outliers** and justify cleaning choices.  \n",
        "4) Connect DQ decisions to **business/ML impact**.\n"
      ],
      "id": "755MYLr1u2eG"
    },
    {
      "cell_type": "markdown",
      "metadata": {
        "id": "hZmTjj-Iu2eH"
      },
      "source": [
        "## 0) Environment setup — What & Why\n",
        "Authenticate Colab to Google Cloud so we can use `gcloud`, GCS, and BigQuery. Set **PROJECT_ID** and **REGION** once for consistency (cost/latency)."
      ],
      "id": "hZmTjj-Iu2eH"
    },
    {
      "cell_type": "code",
      "source": [
        "from google.colab import files\n",
        "import os\n",
        "\n",
        "# Prompt the user to upload their kaggle.json file.\n",
        "# This file contains your Kaggle API credentials.\n",
        "print(\"Upload your kaggle.json (Kaggle > Account > Create New API Token)\")\n",
        "uploaded = files.upload()\n",
        "\n",
        "# Create the .kaggle directory if it doesn't exist.\n",
        "# This is where Kaggle expects to find the credentials file.\n",
        "os.makedirs('/root/.kaggle', exist_ok=True)\n",
        "\n",
        "# Save the uploaded file to the correct location.\n",
        "# Using the first uploaded file as we expect only one (kaggle.json).\n",
        "with open('/root/.kaggle/kaggle.json', 'wb') as f:\n",
        "    f.write(uploaded[list(uploaded.keys())[0]])\n",
        "\n",
        "# Set file permissions to 0600 (owner read/write only).\n",
        "# This is crucial for security to prevent other users from accessing your API key.\n",
        "os.chmod('/root/.kaggle/kaggle.json', 0o600)\n",
        "\n",
        "# Verify the Kaggle installation by printing the version.\n",
        "# This confirms the CLI is installed and can access the credentials.\n",
        "!kaggle --version\n",
        "\n",
        "# Done: Kaggle setup"
      ],
      "metadata": {
        "colab": {
          "base_uri": "https://localhost:8080/",
          "height": 108
        },
        "id": "Yw1lKwmGu4lL",
        "outputId": "c8c32e2a-0343-4d2a-dd9e-c358bb0d3ef7"
      },
      "id": "Yw1lKwmGu4lL",
      "execution_count": 7,
      "outputs": [
        {
          "output_type": "stream",
          "name": "stdout",
          "text": [
            "Upload your kaggle.json (Kaggle > Account > Create New API Token)\n"
          ]
        },
        {
          "output_type": "display_data",
          "data": {
            "text/plain": [
              "<IPython.core.display.HTML object>"
            ],
            "text/html": [
              "\n",
              "     <input type=\"file\" id=\"files-5c912ef0-7c0e-4fe5-a707-8201a6e184e9\" name=\"files[]\" multiple disabled\n",
              "        style=\"border:none\" />\n",
              "     <output id=\"result-5c912ef0-7c0e-4fe5-a707-8201a6e184e9\">\n",
              "      Upload widget is only available when the cell has been executed in the\n",
              "      current browser session. Please rerun this cell to enable.\n",
              "      </output>\n",
              "      <script>// Copyright 2017 Google LLC\n",
              "//\n",
              "// Licensed under the Apache License, Version 2.0 (the \"License\");\n",
              "// you may not use this file except in compliance with the License.\n",
              "// You may obtain a copy of the License at\n",
              "//\n",
              "//      http://www.apache.org/licenses/LICENSE-2.0\n",
              "//\n",
              "// Unless required by applicable law or agreed to in writing, software\n",
              "// distributed under the License is distributed on an \"AS IS\" BASIS,\n",
              "// WITHOUT WARRANTIES OR CONDITIONS OF ANY KIND, either express or implied.\n",
              "// See the License for the specific language governing permissions and\n",
              "// limitations under the License.\n",
              "\n",
              "/**\n",
              " * @fileoverview Helpers for google.colab Python module.\n",
              " */\n",
              "(function(scope) {\n",
              "function span(text, styleAttributes = {}) {\n",
              "  const element = document.createElement('span');\n",
              "  element.textContent = text;\n",
              "  for (const key of Object.keys(styleAttributes)) {\n",
              "    element.style[key] = styleAttributes[key];\n",
              "  }\n",
              "  return element;\n",
              "}\n",
              "\n",
              "// Max number of bytes which will be uploaded at a time.\n",
              "const MAX_PAYLOAD_SIZE = 100 * 1024;\n",
              "\n",
              "function _uploadFiles(inputId, outputId) {\n",
              "  const steps = uploadFilesStep(inputId, outputId);\n",
              "  const outputElement = document.getElementById(outputId);\n",
              "  // Cache steps on the outputElement to make it available for the next call\n",
              "  // to uploadFilesContinue from Python.\n",
              "  outputElement.steps = steps;\n",
              "\n",
              "  return _uploadFilesContinue(outputId);\n",
              "}\n",
              "\n",
              "// This is roughly an async generator (not supported in the browser yet),\n",
              "// where there are multiple asynchronous steps and the Python side is going\n",
              "// to poll for completion of each step.\n",
              "// This uses a Promise to block the python side on completion of each step,\n",
              "// then passes the result of the previous step as the input to the next step.\n",
              "function _uploadFilesContinue(outputId) {\n",
              "  const outputElement = document.getElementById(outputId);\n",
              "  const steps = outputElement.steps;\n",
              "\n",
              "  const next = steps.next(outputElement.lastPromiseValue);\n",
              "  return Promise.resolve(next.value.promise).then((value) => {\n",
              "    // Cache the last promise value to make it available to the next\n",
              "    // step of the generator.\n",
              "    outputElement.lastPromiseValue = value;\n",
              "    return next.value.response;\n",
              "  });\n",
              "}\n",
              "\n",
              "/**\n",
              " * Generator function which is called between each async step of the upload\n",
              " * process.\n",
              " * @param {string} inputId Element ID of the input file picker element.\n",
              " * @param {string} outputId Element ID of the output display.\n",
              " * @return {!Iterable<!Object>} Iterable of next steps.\n",
              " */\n",
              "function* uploadFilesStep(inputId, outputId) {\n",
              "  const inputElement = document.getElementById(inputId);\n",
              "  inputElement.disabled = false;\n",
              "\n",
              "  const outputElement = document.getElementById(outputId);\n",
              "  outputElement.innerHTML = '';\n",
              "\n",
              "  const pickedPromise = new Promise((resolve) => {\n",
              "    inputElement.addEventListener('change', (e) => {\n",
              "      resolve(e.target.files);\n",
              "    });\n",
              "  });\n",
              "\n",
              "  const cancel = document.createElement('button');\n",
              "  inputElement.parentElement.appendChild(cancel);\n",
              "  cancel.textContent = 'Cancel upload';\n",
              "  const cancelPromise = new Promise((resolve) => {\n",
              "    cancel.onclick = () => {\n",
              "      resolve(null);\n",
              "    };\n",
              "  });\n",
              "\n",
              "  // Wait for the user to pick the files.\n",
              "  const files = yield {\n",
              "    promise: Promise.race([pickedPromise, cancelPromise]),\n",
              "    response: {\n",
              "      action: 'starting',\n",
              "    }\n",
              "  };\n",
              "\n",
              "  cancel.remove();\n",
              "\n",
              "  // Disable the input element since further picks are not allowed.\n",
              "  inputElement.disabled = true;\n",
              "\n",
              "  if (!files) {\n",
              "    return {\n",
              "      response: {\n",
              "        action: 'complete',\n",
              "      }\n",
              "    };\n",
              "  }\n",
              "\n",
              "  for (const file of files) {\n",
              "    const li = document.createElement('li');\n",
              "    li.append(span(file.name, {fontWeight: 'bold'}));\n",
              "    li.append(span(\n",
              "        `(${file.type || 'n/a'}) - ${file.size} bytes, ` +\n",
              "        `last modified: ${\n",
              "            file.lastModifiedDate ? file.lastModifiedDate.toLocaleDateString() :\n",
              "                                    'n/a'} - `));\n",
              "    const percent = span('0% done');\n",
              "    li.appendChild(percent);\n",
              "\n",
              "    outputElement.appendChild(li);\n",
              "\n",
              "    const fileDataPromise = new Promise((resolve) => {\n",
              "      const reader = new FileReader();\n",
              "      reader.onload = (e) => {\n",
              "        resolve(e.target.result);\n",
              "      };\n",
              "      reader.readAsArrayBuffer(file);\n",
              "    });\n",
              "    // Wait for the data to be ready.\n",
              "    let fileData = yield {\n",
              "      promise: fileDataPromise,\n",
              "      response: {\n",
              "        action: 'continue',\n",
              "      }\n",
              "    };\n",
              "\n",
              "    // Use a chunked sending to avoid message size limits. See b/62115660.\n",
              "    let position = 0;\n",
              "    do {\n",
              "      const length = Math.min(fileData.byteLength - position, MAX_PAYLOAD_SIZE);\n",
              "      const chunk = new Uint8Array(fileData, position, length);\n",
              "      position += length;\n",
              "\n",
              "      const base64 = btoa(String.fromCharCode.apply(null, chunk));\n",
              "      yield {\n",
              "        response: {\n",
              "          action: 'append',\n",
              "          file: file.name,\n",
              "          data: base64,\n",
              "        },\n",
              "      };\n",
              "\n",
              "      let percentDone = fileData.byteLength === 0 ?\n",
              "          100 :\n",
              "          Math.round((position / fileData.byteLength) * 100);\n",
              "      percent.textContent = `${percentDone}% done`;\n",
              "\n",
              "    } while (position < fileData.byteLength);\n",
              "  }\n",
              "\n",
              "  // All done.\n",
              "  yield {\n",
              "    response: {\n",
              "      action: 'complete',\n",
              "    }\n",
              "  };\n",
              "}\n",
              "\n",
              "scope.google = scope.google || {};\n",
              "scope.google.colab = scope.google.colab || {};\n",
              "scope.google.colab._files = {\n",
              "  _uploadFiles,\n",
              "  _uploadFilesContinue,\n",
              "};\n",
              "})(self);\n",
              "</script> "
            ]
          },
          "metadata": {}
        },
        {
          "output_type": "stream",
          "name": "stdout",
          "text": [
            "Saving kaggle.json to kaggle.json\n",
            "Kaggle API 1.7.4.5\n"
          ]
        }
      ]
    },
    {
      "cell_type": "markdown",
      "metadata": {
        "id": "I8TF7UX7u2eH"
      },
      "source": [
        "### Build Prompt (paste to LLM)\n",
        "You are my cloud TA. Generate a single **Colab code cell** that:\n",
        "1) Authenticates to Google Cloud in Colab,  \n",
        "2) Prompts for `PROJECT_ID` via `input()` and sets `REGION=\"us-central1\"` (editable),  \n",
        "3) Exports `GOOGLE_CLOUD_PROJECT`,  \n",
        "4) Runs `gcloud config set project $GOOGLE_CLOUD_PROJECT`,  \n",
        "5) Prints both values. Add 2–3 comments explaining what/why.\n",
        "End with a comment: `# Done: Auth + Project/Region set`.\n"
      ],
      "id": "I8TF7UX7u2eH"
    },
    {
      "cell_type": "code",
      "metadata": {
        "colab": {
          "base_uri": "https://localhost:8080/"
        },
        "id": "UypQbW2qu2eH",
        "outputId": "530a67bd-15be-4954-9a6b-2cb601d7e130"
      },
      "execution_count": null,
      "outputs": [
        {
          "output_type": "stream",
          "name": "stdout",
          "text": [
            "Enter your GCP Project ID: mgmt-471819-i5\n",
            "Project: mgmt-471819-i5 | Region: US\n",
            "Updated property [core/project].\n",
            "mgmt-471819-i5\n"
          ]
        }
      ],
      "source": [
        "#EXAMPLE (from LLM) — Auth + Project/Region (commented; write your own cell using the prompt)\n",
        "from google.colab import auth\n",
        "auth.authenticate_user()\n",
        "\n",
        "import os\n",
        "PROJECT_ID = input(\"Enter your GCP Project ID: \").strip()\n",
        "REGION = \"US\"  # keep consistent; change if instructed\n",
        "os.environ[\"GOOGLE_CLOUD_PROJECT\"] = PROJECT_ID\n",
        "print(\"Project:\", PROJECT_ID, \"| Region:\", REGION)\n",
        "\n",
        "# Set active project for gcloud/BigQuery CLI\n",
        "!gcloud config set project $GOOGLE_CLOUD_PROJECT\n",
        "!gcloud config get-value project\n",
        "# Done: Auth + Project/Region set"
      ],
      "id": "UypQbW2qu2eH"
    },
    {
      "cell_type": "markdown",
      "metadata": {
        "id": "q4n9ELk1u2eI"
      },
      "source": [
        "### Verification Prompt\n",
        "Generate a short cell that prints the active project using `gcloud config get-value project` and echoes the `REGION` you set.\n"
      ],
      "id": "q4n9ELk1u2eI"
    },
    {
      "cell_type": "markdown",
      "metadata": {
        "id": "hiJxP2Hzu2eI"
      },
      "source": [
        "**Reflection:** Why do we set `PROJECT_ID` and `REGION` at the top? What can go wrong if we don’t?"
      ],
      "id": "hiJxP2Hzu2eI"
    },
    {
      "cell_type": "markdown",
      "source": [
        "Consitency- It guarantees that resources are created and aceesed in the intended locations\n",
        "Cost Managment- Different regions have different prices\n",
        "Latency: Choosing a geographically close region helps reduce latency"
      ],
      "metadata": {
        "id": "fzd9MJIojmea"
      },
      "id": "fzd9MJIojmea"
    },
    {
      "cell_type": "markdown",
      "metadata": {
        "id": "Nrc3nkrMu2eI"
      },
      "source": [
        "## 1) Kaggle API — What & Why\n",
        "Use Kaggle CLI for reproducible downloads. Store `kaggle.json` at `~/.kaggle/kaggle.json` with `0600` permissions to protect secrets."
      ],
      "id": "Nrc3nkrMu2eI"
    },
    {
      "cell_type": "markdown",
      "metadata": {
        "id": "DvZnK4BAu2eI"
      },
      "source": [
        "### Build Prompt\n",
        "Generate a **single Colab code cell** that:\n",
        "- Prompts me to upload `kaggle.json`,\n",
        "- Saves to `~/.kaggle/kaggle.json` with `0600` permissions,\n",
        "- Prints `kaggle --version`.\n",
        "Add comments about security and reproducibility.\n"
      ],
      "id": "DvZnK4BAu2eI"
    },
    {
      "cell_type": "code",
      "metadata": {
        "colab": {
          "base_uri": "https://localhost:8080/"
        },
        "id": "y_JDYUgWu2eI",
        "outputId": "866d6f45-1a97-4496-9aa9-745d48092eb5"
      },
      "execution_count": null,
      "outputs": [
        {
          "output_type": "stream",
          "name": "stdout",
          "text": [
            "Row(('netflix', 'US'), {'schema_name': 0, 'location': 1})\n"
          ]
        }
      ],
      "source": [
        "# Query BigQuery's INFORMATION_SCHEMA to check the dataset region\n",
        "import os\n",
        "from google.cloud import bigquery\n",
        "\n",
        "project_id = os.environ['GOOGLE_CLOUD_PROJECT']\n",
        "client = bigquery.Client(project=project_id)\n",
        "\n",
        "query = f\"\"\"\n",
        "SELECT\n",
        "    schema_name,\n",
        "    location\n",
        "FROM\n",
        "    `{project_id}`.INFORMATION_SCHEMA.SCHEMATA\n",
        "WHERE\n",
        "    schema_name = 'netflix';\n",
        "\"\"\"\n",
        "\n",
        "query_job = client.query(query)\n",
        "results = query_job.result()\n",
        "\n",
        "# Print the results\n",
        "for row in results:\n",
        "    print(row)"
      ],
      "id": "y_JDYUgWu2eI"
    },
    {
      "cell_type": "markdown",
      "metadata": {
        "id": "tPW9A9nBu2eJ"
      },
      "source": [
        "### Verification Prompt\n",
        "Generate a one-liner that runs `kaggle --help | head -n 20` to show the CLI is ready.\n"
      ],
      "id": "tPW9A9nBu2eJ"
    },
    {
      "cell_type": "code",
      "source": [
        "# Verification step: Check active project and region\n",
        "!gcloud config get-value project\n",
        "import os\n",
        "print(\"Project:\", PROJECT_ID, \"| Region:\", REGION)"
      ],
      "metadata": {
        "colab": {
          "base_uri": "https://localhost:8080/"
        },
        "id": "AuV84-Zyv8uD",
        "outputId": "160ff341-6792-4c1d-87a4-aa8dcaa4efe4"
      },
      "id": "AuV84-Zyv8uD",
      "execution_count": null,
      "outputs": [
        {
          "output_type": "stream",
          "name": "stdout",
          "text": [
            "mgmt-471819-i5\n",
            "Project: mgmt-471819-i5 | Region: US\n"
          ]
        }
      ]
    },
    {
      "cell_type": "markdown",
      "metadata": {
        "id": "_TP3GxoAu2eJ"
      },
      "source": [
        "\\**Reflection:** Why require strict `0600` permissions on API tokens? What risks are we avoiding?"
      ],
      "id": "_TP3GxoAu2eJ"
    },
    {
      "cell_type": "markdown",
      "source": [],
      "metadata": {
        "id": "wuM3XUmjj70G"
      },
      "id": "wuM3XUmjj70G"
    },
    {
      "cell_type": "markdown",
      "metadata": {
        "id": "8bfbfca3"
      },
      "source": [
        "Strict `0600` permissions on API tokens are essential for security, granting read/write access only to the file owner. This prevents unauthorized access and usage by other users or processes, mitigating risks of credential theft and a compromised security posture. Enforcing these permissions protects your accounts and data by ensuring the token remains a confidential secret."
      ],
      "id": "8bfbfca3"
    },
    {
      "cell_type": "markdown",
      "metadata": {
        "id": "nVY9SQ6Fu2eJ"
      },
      "source": [
        "## 2) Download & unzip dataset — What & Why\n",
        "Keep raw files under `/content/data/raw` for predictable paths and auditing.\n",
        "**Dataset:** `sayeeduddin/netflix-2025user-behavior-dataset-210k-records`"
      ],
      "id": "nVY9SQ6Fu2eJ"
    },
    {
      "cell_type": "markdown",
      "metadata": {
        "id": "X-KQdnz8u2eJ"
      },
      "source": [
        "### Build Prompt\n",
        "Generate a **Colab code cell** that:\n",
        "- Creates `/content/data/raw`,\n",
        "- Downloads the dataset to `/content/data` with Kaggle CLI,\n",
        "- Unzips into `/content/data/raw` (overwrite OK),\n",
        "- Lists all CSVs with sizes in a neat table.\n",
        "Include comments describing each step.\n"
      ],
      "id": "X-KQdnz8u2eJ"
    },
    {
      "cell_type": "code",
      "metadata": {
        "colab": {
          "base_uri": "https://localhost:8080/"
        },
        "id": "yDvq80ezu2eJ",
        "outputId": "46b5e2ac-7442-4e84-86cf-2b077c1da0f0"
      },
      "execution_count": null,
      "outputs": [
        {
          "output_type": "stream",
          "name": "stdout",
          "text": [
            "Dataset URL: https://www.kaggle.com/datasets/sayeeduddin/netflix-2025user-behavior-dataset-210k-records\n",
            "License(s): CC0-1.0\n",
            "Downloading netflix-2025user-behavior-dataset-210k-records.zip to /content/data\n",
            "  0% 0.00/4.02M [00:00<?, ?B/s]\n",
            "100% 4.02M/4.02M [00:00<00:00, 467MB/s]\n",
            "Archive:  /content/data/netflix-2025user-behavior-dataset-210k-records.zip\n",
            "  inflating: /content/data/raw/README.md  \n",
            "  inflating: /content/data/raw/movies.csv  \n",
            "  inflating: /content/data/raw/recommendation_logs.csv  \n",
            "  inflating: /content/data/raw/reviews.csv  \n",
            "  inflating: /content/data/raw/search_logs.csv  \n",
            "  inflating: /content/data/raw/users.csv  \n",
            "  inflating: /content/data/raw/watch_history.csv  \n",
            "-rw-r--r-- 1 root root 114K Aug  2 19:36 /content/data/raw/movies.csv\n",
            "-rw-r--r-- 1 root root 4.5M Aug  2 19:36 /content/data/raw/recommendation_logs.csv\n",
            "-rw-r--r-- 1 root root 1.8M Aug  2 19:36 /content/data/raw/reviews.csv\n",
            "-rw-r--r-- 1 root root 2.2M Aug  2 19:36 /content/data/raw/search_logs.csv\n",
            "-rw-r--r-- 1 root root 1.6M Aug  2 19:36 /content/data/raw/users.csv\n",
            "-rw-r--r-- 1 root root 8.9M Aug  2 19:36 /content/data/raw/watch_history.csv\n"
          ]
        }
      ],
      "source": [
        "# Create the directory to store raw data\n",
        "!mkdir -p /content/data/raw\n",
        "\n",
        "# Download the dataset using Kaggle CLI to /content/data\n",
        "# The -d flag specifies the dataset, and -p specifies the download path\n",
        "!kaggle datasets download -d sayeeduddin/netflix-2025user-behavior-dataset-210k-records -p /content/data\n",
        "\n",
        "# Unzip the downloaded dataset into the raw data directory\n",
        "# -o flag overwrites files if they exist\n",
        "!unzip -o /content/data/*.zip -d /content/data/raw\n",
        "\n",
        "# List all CSV files in the raw data directory with their sizes in a neat table\n",
        "!ls -lh /content/data/raw/*.csv"
      ],
      "id": "yDvq80ezu2eJ"
    },
    {
      "cell_type": "markdown",
      "metadata": {
        "id": "Svd55u_Cu2eJ"
      },
      "source": [
        "### Verification Prompt\n",
        "Generate a snippet that asserts there are exactly **six** CSV files and prints their names.\n"
      ],
      "id": "Svd55u_Cu2eJ"
    },
    {
      "cell_type": "code",
      "source": [
        "# Verification step: Assert the number of CSV files and print their names\n",
        "import glob\n",
        "import os\n",
        "\n",
        "csv_files = glob.glob('/content/data/raw/*.csv')\n",
        "num_csv_files = len(csv_files)\n",
        "\n",
        "# Assert that there are exactly six CSV files\n",
        "assert num_csv_files == 6, f\"Expected 6 CSV files, but found {num_csv_files}\"\n",
        "\n",
        "print(f\"Found {num_csv_files} CSV files:\")\n",
        "for csv_file in csv_files:\n",
        "    print(os.path.basename(csv_file))"
      ],
      "metadata": {
        "colab": {
          "base_uri": "https://localhost:8080/"
        },
        "id": "9U-hNN4mwe4U",
        "outputId": "de00fc10-6f3c-4339-c00d-78f81fdaad4f"
      },
      "id": "9U-hNN4mwe4U",
      "execution_count": null,
      "outputs": [
        {
          "output_type": "stream",
          "name": "stdout",
          "text": [
            "Found 6 CSV files:\n",
            "movies.csv\n",
            "reviews.csv\n",
            "users.csv\n",
            "recommendation_logs.csv\n",
            "search_logs.csv\n",
            "watch_history.csv\n"
          ]
        }
      ]
    },
    {
      "cell_type": "markdown",
      "metadata": {
        "id": "bJADLW-Yu2eJ"
      },
      "source": [
        "**Reflection:** Why is keeping a clean file inventory (names, sizes) useful downstream?"
      ],
      "id": "bJADLW-Yu2eJ"
    },
    {
      "cell_type": "markdown",
      "metadata": {
        "id": "51eb1e8e"
      },
      "source": [
        "Keeping a clean file inventory with names and sizes is crucial for downstream processes. It enables auditing and reproducibility by clearly documenting input files, aids troubleshooting by providing a reference for expected data assets, assists in data validation by allowing checks against expected file properties, simplifies automation by providing consistent file information, and serves as concise documentation of the raw data."
      ],
      "id": "51eb1e8e"
    },
    {
      "cell_type": "markdown",
      "metadata": {
        "id": "wRVy95fwu2eJ"
      },
      "source": [
        "## 3) Create GCS bucket & upload — What & Why\n",
        "Stage in GCS → consistent, versionable source for BigQuery loads. Bucket names must be **globally unique**."
      ],
      "id": "wRVy95fwu2eJ"
    },
    {
      "cell_type": "markdown",
      "metadata": {
        "id": "N8efTTSZu2eJ"
      },
      "source": [
        "### Build Prompt\n",
        "Generate a **Colab code cell** that:\n",
        "- Creates a unique bucket in `${REGION}` (random suffix),\n",
        "- Saves name to `BUCKET_NAME` env var,\n",
        "- Uploads all CSVs to `gs://$BUCKET_NAME/netflix/`,\n",
        "- Prints the bucket name and explains staging benefits.\n"
      ],
      "id": "N8efTTSZu2eJ"
    },
    {
      "cell_type": "code",
      "metadata": {
        "colab": {
          "base_uri": "https://localhost:8080/"
        },
        "id": "Sdo9uoBPu2eJ",
        "outputId": "1c4085bc-9f70-4e44-8f52-46ae006fb4ab"
      },
      "execution_count": null,
      "outputs": [
        {
          "output_type": "stream",
          "name": "stdout",
          "text": [
            "Creating bucket: gs://mgmt-471819-i5-netflix-956ce240 in region: US\n",
            "Creating gs://mgmt-471819-i5-netflix-956ce240/...\n",
            "\n",
            "Uploading files to gs://mgmt-471819-i5-netflix-956ce240/netflix/\n",
            "Copying file:///content/data/raw/movies.csv to gs://mgmt-471819-i5-netflix-956ce240/netflix/movies.csv\n",
            "Copying file:///content/data/raw/README.md to gs://mgmt-471819-i5-netflix-956ce240/netflix/README.md\n",
            "Copying file:///content/data/raw/recommendation_logs.csv to gs://mgmt-471819-i5-netflix-956ce240/netflix/recommendation_logs.csv\n",
            "Copying file:///content/data/raw/reviews.csv to gs://mgmt-471819-i5-netflix-956ce240/netflix/reviews.csv\n",
            "Copying file:///content/data/raw/search_logs.csv to gs://mgmt-471819-i5-netflix-956ce240/netflix/search_logs.csv\n",
            "Copying file:///content/data/raw/users.csv to gs://mgmt-471819-i5-netflix-956ce240/netflix/users.csv\n",
            "Copying file:///content/data/raw/watch_history.csv to gs://mgmt-471819-i5-netflix-956ce240/netflix/watch_history.csv\n",
            "\n",
            "Average throughput: 39.1MiB/s\n",
            "\n",
            "Successfully created bucket: mgmt-471819-i5-netflix-956ce240 and uploaded files.\n",
            "\n",
            "Benefits of staging data in GCS:\n",
            "- **Consistent Source:** GCS provides a stable and versionable location for your data.\n",
            "- **Scalability:** GCS is highly scalable, handling large datasets easily.\n",
            "- **Integration:** GCS integrates seamlessly with other Google Cloud services like BigQuery.\n",
            "- **Cost-Effective:** GCS can be a cost-effective storage solution.\n",
            "\n",
            "Verifying contents of gs://mgmt-471819-i5-netflix-956ce240/netflix/:\n",
            "gs://mgmt-471819-i5-netflix-956ce240/netflix/README.md\n",
            "gs://mgmt-471819-i5-netflix-956ce240/netflix/movies.csv\n",
            "gs://mgmt-471819-i5-netflix-956ce240/netflix/recommendation_logs.csv\n",
            "gs://mgmt-471819-i5-netflix-956ce240/netflix/reviews.csv\n",
            "gs://mgmt-471819-i5-netflix-956ce240/netflix/search_logs.csv\n",
            "gs://mgmt-471819-i5-netflix-956ce240/netflix/users.csv\n",
            "gs://mgmt-471819-i5-netflix-956ce240/netflix/watch_history.csv\n"
          ]
        }
      ],
      "source": [
        "# Create a unique bucket in the specified region\n",
        "import uuid\n",
        "import os\n",
        "\n",
        "bucket_name = f\"mgmt-471819-i5-netflix-{uuid.uuid4().hex[:8]}\"\n",
        "os.environ[\"BUCKET_NAME\"] = bucket_name\n",
        "\n",
        "# Use the REGION variable directly in the gcloud command\n",
        "# Changed location to 'US' to match BigQuery dataset location\n",
        "print(f\"Creating bucket: gs://{bucket_name} in region: US\")\n",
        "!gcloud storage buckets create gs://$BUCKET_NAME --location=US\n",
        "\n",
        "# Upload all CSVs to the bucket\n",
        "print(f\"\\nUploading files to gs://{bucket_name}/netflix/\")\n",
        "!gcloud storage cp /content/data/raw/* gs://$BUCKET_NAME/netflix/\n",
        "\n",
        "# Print the bucket name and explain staging benefits\n",
        "print(f\"\\nSuccessfully created bucket: {bucket_name} and uploaded files.\")\n",
        "print(\"\\nBenefits of staging data in GCS:\")\n",
        "print(\"- **Consistent Source:** GCS provides a stable and versionable location for your data.\")\n",
        "print(\"- **Scalability:** GCS is highly scalable, handling large datasets easily.\")\n",
        "print(\"- **Integration:** GCS integrates seamlessly with other Google Cloud services like BigQuery.\")\n",
        "print(\"- **Cost-Effective:** GCS can be a cost-effective storage solution.\")\n",
        "\n",
        "# Verify contents (optional but recommended)\n",
        "print(f\"\\nVerifying contents of gs://{bucket_name}/netflix/:\")\n",
        "!gcloud storage ls gs://$BUCKET_NAME/netflix/"
      ],
      "id": "Sdo9uoBPu2eJ"
    },
    {
      "cell_type": "markdown",
      "metadata": {
        "id": "hL8GO5yeu2eJ"
      },
      "source": [
        "### Verification Prompt\n",
        "Generate a snippet that lists the `netflix/` prefix and shows object sizes.\n"
      ],
      "id": "hL8GO5yeu2eJ"
    },
    {
      "cell_type": "code",
      "source": [
        "# Verification step: List objects in the netflix/ prefix with sizes\n",
        "import os\n",
        "\n",
        "bucket_name = os.environ[\"BUCKET_NAME\"]\n",
        "print(f\"Listing contents of gs://{bucket_name}/netflix/ with sizes:\")\n",
        "!gcloud storage ls -l gs://$BUCKET_NAME/netflix/"
      ],
      "metadata": {
        "colab": {
          "base_uri": "https://localhost:8080/"
        },
        "id": "MK3OAP65xuFa",
        "outputId": "44091942-4acc-40b9-9cb8-b022fd7a39a1"
      },
      "id": "MK3OAP65xuFa",
      "execution_count": null,
      "outputs": [
        {
          "output_type": "stream",
          "name": "stdout",
          "text": [
            "Listing contents of gs://mgmt-471819-i5-netflix-956ce240/netflix/ with sizes:\n",
            "      8002  2025-10-20T17:59:13Z  gs://mgmt-471819-i5-netflix-956ce240/netflix/README.md\n",
            "    115942  2025-10-20T17:59:13Z  gs://mgmt-471819-i5-netflix-956ce240/netflix/movies.csv\n",
            "   4695557  2025-10-20T17:59:13Z  gs://mgmt-471819-i5-netflix-956ce240/netflix/recommendation_logs.csv\n",
            "   1861942  2025-10-20T17:59:13Z  gs://mgmt-471819-i5-netflix-956ce240/netflix/reviews.csv\n",
            "   2250902  2025-10-20T17:59:13Z  gs://mgmt-471819-i5-netflix-956ce240/netflix/search_logs.csv\n",
            "   1606820  2025-10-20T17:59:13Z  gs://mgmt-471819-i5-netflix-956ce240/netflix/users.csv\n",
            "   9269425  2025-10-20T17:59:13Z  gs://mgmt-471819-i5-netflix-956ce240/netflix/watch_history.csv\n",
            "TOTAL: 7 objects, 19808590 bytes (18.89MiB)\n"
          ]
        }
      ]
    },
    {
      "cell_type": "markdown",
      "metadata": {
        "id": "ycqRYf5Wu2eK"
      },
      "source": [
        "**Reflection:** Name two benefits of staging in GCS vs loading directly from local Colab."
      ],
      "id": "ycqRYf5Wu2eK"
    },
    {
      "cell_type": "markdown",
      "metadata": {
        "id": "1ab3705a"
      },
      "source": [
        "Two key benefits of staging data in GCS versus loading directly from local Colab are scalability and reproducibility. GCS offers highly scalable storage that can handle large datasets efficiently, which is essential for big data processing. Staging in GCS also creates a stable, versionable, and accessible source for data loads, making pipelines more reproducible and easier to manage compared to relying on temporary local Colab storage."
      ],
      "id": "1ab3705a"
    },
    {
      "cell_type": "markdown",
      "metadata": {
        "id": "O7wEEgQAu2eK"
      },
      "source": [
        "## 4) BigQuery dataset & loads — What & Why\n",
        "Create dataset `netflix` and load six CSVs with **autodetect** for speed (we’ll enforce schemas later)."
      ],
      "id": "O7wEEgQAu2eK"
    },
    {
      "cell_type": "code",
      "metadata": {
        "colab": {
          "base_uri": "https://localhost:8080/"
        },
        "id": "Qfq6mes_u2eK",
        "outputId": "bf3fbf84-a55b-468d-ecdd-f0db95d74cef"
      },
      "execution_count": null,
      "outputs": [
        {
          "output_type": "stream",
          "name": "stdout",
          "text": [
            "Attempting to create dataset: netflix in location: US\n",
            "BigQuery error in mk operation: Dataset 'mgmt-471819-i5:netflix' already exists.\n",
            "Dataset may already exist or another error occurred.\n"
          ]
        }
      ],
      "source": [
        "# Create the BigQuery dataset (idempotent)\n",
        "DATASET = \"netflix\"\n",
        "# Attempt to create; ignore if exists\n",
        "print(f\"Attempting to create dataset: {DATASET} in location: US\")\n",
        "!bq --location=US mk -d --description \"MGMT467 Netflix dataset\" {DATASET} || echo \"Dataset may already exist or another error occurred.\""
      ],
      "id": "Qfq6mes_u2eK"
    },
    {
      "cell_type": "markdown",
      "metadata": {
        "id": "69kCemPru2eK"
      },
      "source": [
        "### Build Prompt (two cells)\n",
        "**Cell A:** Create (idempotently) dataset `netflix` in US multi-region; if it exists, print a friendly message.  \n",
        "**Cell B:** Load tables from `gs://$BUCKET_NAME/netflix/`:\n",
        "`users, movies, watch_history, recommendation_logs, search_logs, reviews`\n",
        "with `--skip_leading_rows=1 --autodetect --source_format=CSV`.\n",
        "Finish with row-count queries for each table.\n"
      ],
      "id": "69kCemPru2eK"
    },
    {
      "cell_type": "code",
      "metadata": {
        "colab": {
          "base_uri": "https://localhost:8080/"
        },
        "id": "PFMhMWtUu2eK",
        "outputId": "80c4d255-ccc2-416d-930c-44f7b478998e"
      },
      "execution_count": null,
      "outputs": [
        {
          "output_type": "stream",
          "name": "stdout",
          "text": [
            "BigQuery error in mk operation: Dataset 'mgmt-471819-i5:netflix' already exists.\n",
            "Dataset may already exist.\n"
          ]
        }
      ],
      "source": [
        "# EXAMPLE (from LLM) — BigQuery dataset (commented)\n",
        "DATASET=\"netflix\"\n",
        "# Attempt to create; ignore if exists\n",
        "!bq --location=US mk -d --description \"MGMT467 Netflix dataset\" $DATASET || echo \"Dataset may already exist.\""
      ],
      "id": "PFMhMWtUu2eK"
    },
    {
      "cell_type": "code",
      "source": [
        "# Load tables from GCS using BigQuery Python Client Library\n",
        "from google.cloud import bigquery\n",
        "import os\n",
        "\n",
        "client = bigquery.Client()\n",
        "\n",
        "tables = {\n",
        "  \"users\": \"users.csv\",\n",
        "  \"movies\": \"movies.csv\",\n",
        "  \"watch_history\": \"watch_history.csv\",\n",
        "  \"recommendation_logs\": \"recommendation_logs.csv\",\n",
        "  \"search_logs\": \"search_logs.csv\",\n",
        "  \"reviews\": \"reviews.csv\",\n",
        "}\n",
        "\n",
        "# Hardcoded dataset ID\n",
        "DATASET_ID = \"mgmt-471819-i5.netflix\"\n",
        "# Hardcoded bucket name from previous successful run - REPLACE WITH YOUR ACTUAL BUCKET NAME if needed\n",
        "BUCKET_NAME = \"mgmt-471819-i5-netflix-e31f9c91\"\n",
        "\n",
        "\n",
        "for tbl, fname in tables.items():\n",
        "  uri = f\"gs://{BUCKET_NAME}/netflix/{fname}\"\n",
        "  table_id = f\"{DATASET_ID}.{tbl}\"\n",
        "\n",
        "  job_config = bigquery.LoadJobConfig(\n",
        "      autodetect=True,\n",
        "      skip_leading_rows=1,\n",
        "      source_format=bigquery.SourceFormat.CSV,\n",
        "  )\n",
        "\n",
        "  print(f\"Loading {tbl} from {uri} into {table_id}\")\n",
        "  # Use the client library to load the data\n",
        "  load_job = client.load_table_from_uri(\n",
        "      uri, table_id, job_config=job_config\n",
        "  )  # Make an API request.\n",
        "\n",
        "  load_job.result()  # Waits for the job to complete.\n",
        "\n",
        "  print(f\"Load job for {tbl} completed.\")\n",
        "\n",
        "# Row counts (Verification Prompt)\n",
        "print(\"\\nVerifying row counts:\")\n",
        "for tbl in tables.keys():\n",
        "    table_id_full = f\"{DATASET_ID}.{tbl}\"\n",
        "    query = f\"SELECT '{tbl}' AS table_name, COUNT(*) AS n FROM `{table_id_full}`\"\n",
        "    query_job = client.query(query)\n",
        "    results = query_job.result()\n",
        "    for row in results:\n",
        "        print(row)"
      ],
      "metadata": {
        "colab": {
          "base_uri": "https://localhost:8080/"
        },
        "id": "cyjl6n2zyKQL",
        "outputId": "97d10b94-6d2a-4864-8469-d692a21b476c"
      },
      "id": "cyjl6n2zyKQL",
      "execution_count": null,
      "outputs": [
        {
          "output_type": "stream",
          "name": "stdout",
          "text": [
            "Loading users from gs://mgmt-471819-i5-netflix-e31f9c91/netflix/users.csv into mgmt-471819-i5.netflix.users\n",
            "Load job for users completed.\n",
            "Loading movies from gs://mgmt-471819-i5-netflix-e31f9c91/netflix/movies.csv into mgmt-471819-i5.netflix.movies\n",
            "Load job for movies completed.\n",
            "Loading watch_history from gs://mgmt-471819-i5-netflix-e31f9c91/netflix/watch_history.csv into mgmt-471819-i5.netflix.watch_history\n",
            "Load job for watch_history completed.\n",
            "Loading recommendation_logs from gs://mgmt-471819-i5-netflix-e31f9c91/netflix/recommendation_logs.csv into mgmt-471819-i5.netflix.recommendation_logs\n",
            "Load job for recommendation_logs completed.\n",
            "Loading search_logs from gs://mgmt-471819-i5-netflix-e31f9c91/netflix/search_logs.csv into mgmt-471819-i5.netflix.search_logs\n",
            "Load job for search_logs completed.\n",
            "Loading reviews from gs://mgmt-471819-i5-netflix-e31f9c91/netflix/reviews.csv into mgmt-471819-i5.netflix.reviews\n",
            "Load job for reviews completed.\n",
            "\n",
            "Verifying row counts:\n",
            "Row(('users', 20600), {'table_name': 0, 'n': 1})\n",
            "Row(('movies', 2080), {'table_name': 0, 'n': 1})\n",
            "Row(('watch_history', 210000), {'table_name': 0, 'n': 1})\n",
            "Row(('recommendation_logs', 104000), {'table_name': 0, 'n': 1})\n",
            "Row(('search_logs', 53000), {'table_name': 0, 'n': 1})\n",
            "Row(('reviews', 30900), {'table_name': 0, 'n': 1})\n"
          ]
        }
      ]
    },
    {
      "cell_type": "markdown",
      "metadata": {
        "id": "Gz7znu_Tu2eK"
      },
      "source": [
        "### Verification Prompt\n",
        "Generate a single query that returns `table_name, row_count` for all six tables in `${GOOGLE_CLOUD_PROJECT}.netflix`.\n"
      ],
      "id": "Gz7znu_Tu2eK"
    },
    {
      "cell_type": "code",
      "source": [
        "import os\n",
        "from google.cloud import bigquery\n",
        "\n",
        "project_id = os.environ['GOOGLE_CLOUD_PROJECT']\n",
        "client = bigquery.Client(project=project_id)\n",
        "\n",
        "query = f\"\"\"\n",
        "SELECT 'users' AS table_name, COUNT(*) AS row_count FROM `{project_id}.netflix.users`\n",
        "UNION ALL\n",
        "SELECT 'movies' AS table_name, COUNT(*) AS row_count FROM `{project_id}.netflix.movies`\n",
        "UNION ALL\n",
        "SELECT 'watch_history' AS table_name, COUNT(*) AS row_count FROM `{project_id}.netflix.watch_history`\n",
        "UNION ALL\n",
        "SELECT 'recommendation_logs' AS table_name, COUNT(*) AS row_count FROM `{project_id}.netflix.recommendation_logs`\n",
        "UNION ALL\n",
        "SELECT 'search_logs' AS table_name, COUNT(*) AS row_count FROM `{project_id}.netflix.search_logs`\n",
        "UNION ALL\n",
        "SELECT 'reviews' AS table_name, COUNT(*) AS row_count FROM `{project_id}.netflix.reviews`;\n",
        "\"\"\"\n",
        "\n",
        "query_job = client.query(query)\n",
        "results = query_job.result()\n",
        "\n",
        "# Print the results\n",
        "for row in results:\n",
        "    print(row)"
      ],
      "metadata": {
        "colab": {
          "base_uri": "https://localhost:8080/"
        },
        "id": "bo8wpHK2yaPM",
        "outputId": "f3242867-d484-469f-b6a4-d92a10bf2e98"
      },
      "id": "bo8wpHK2yaPM",
      "execution_count": null,
      "outputs": [
        {
          "output_type": "stream",
          "name": "stdout",
          "text": [
            "Row(('movies', 2080), {'table_name': 0, 'row_count': 1})\n",
            "Row(('watch_history', 210000), {'table_name': 0, 'row_count': 1})\n",
            "Row(('search_logs', 53000), {'table_name': 0, 'row_count': 1})\n",
            "Row(('recommendation_logs', 104000), {'table_name': 0, 'row_count': 1})\n",
            "Row(('reviews', 30900), {'table_name': 0, 'row_count': 1})\n",
            "Row(('users', 20600), {'table_name': 0, 'row_count': 1})\n"
          ]
        }
      ]
    },
    {
      "cell_type": "markdown",
      "metadata": {
        "id": "ja4huwPru2eK"
      },
      "source": [
        "**Reflection:** When is `autodetect` acceptable? When should you enforce explicit schemas and why?"
      ],
      "id": "ja4huwPru2eK"
    },
    {
      "cell_type": "markdown",
      "metadata": {
        "id": "99b114ac"
      },
      "source": [
        "`autodetect` is acceptable for initial data exploration or when the schema is simple and consistent. However, for production pipelines or when schema changes are anticipated or complex, enforcing explicit schemas is crucial. Explicit schemas provide better control over data types, prevent unexpected errors during loading, ensure data quality, and make pipelines more robust and maintainable."
      ],
      "id": "99b114ac"
    },
    {
      "cell_type": "markdown",
      "metadata": {
        "id": "gpOYglgdu2eK"
      },
      "source": [
        "## 5) Data Quality (DQ) — Concepts we care about\n",
        "- **Missingness** (MCAR/MAR/MNAR). Impute vs drop. Add `is_missing_*` indicators.\n",
        "- **Duplicates** (exact vs near). Double-counted engagement corrupts labels & KPIs.\n",
        "- **Outliers** (IQR). Winsorize/cap vs robust models. Always **flag** and explain.\n",
        "- **Reproducibility**. Prefer `CREATE OR REPLACE` and deterministic keys.\n"
      ],
      "id": "gpOYglgdu2eK"
    },
    {
      "cell_type": "markdown",
      "metadata": {
        "id": "tyy9rk3Qu2eK"
      },
      "source": [
        "### 5.1 Missingness (users) — What & Why\n",
        "Measure % missing and check if missingness depends on another variable (MAR) → potential bias & instability."
      ],
      "id": "tyy9rk3Qu2eK"
    },
    {
      "cell_type": "code",
      "source": [
        "# Measure % missing subscription_plan by country (Checking for MAR)\n",
        "import os\n",
        "from google.cloud import bigquery\n",
        "\n",
        "project_id = os.environ['GOOGLE_CLOUD_PROJECT']\n",
        "client = bigquery.Client(project=project_id)\n",
        "\n",
        "query = f\"\"\"\n",
        "SELECT country,\n",
        "       COUNT(*) AS n,\n",
        "       ROUND(100*COUNTIF(subscription_plan IS NULL)/COUNT(*),2) AS pct_missing_subscription_plan\n",
        "FROM `{project_id}.netflix.users`\n",
        "GROUP BY country\n",
        "ORDER BY pct_missing_subscription_plan DESC;\n",
        "\"\"\"\n",
        "\n",
        "query_job = client.query(query)\n",
        "results = query_job.result()\n",
        "\n",
        "# Print the results\n",
        "for row in results:\n",
        "    print(row)"
      ],
      "metadata": {
        "colab": {
          "base_uri": "https://localhost:8080/"
        },
        "id": "YC0hhtJ1ytSK",
        "outputId": "f75c7361-60da-489f-8ff3-b93f430ea5ec"
      },
      "id": "YC0hhtJ1ytSK",
      "execution_count": null,
      "outputs": [
        {
          "output_type": "stream",
          "name": "stdout",
          "text": [
            "Row(('Canada', 6192, 0.0), {'country': 0, 'n': 1, 'pct_missing_subscription_plan': 2})\n",
            "Row(('USA', 14408, 0.0), {'country': 0, 'n': 1, 'pct_missing_subscription_plan': 2})\n"
          ]
        }
      ]
    },
    {
      "cell_type": "markdown",
      "metadata": {
        "id": "3hTtCpyDu2eK"
      },
      "source": [
        "### Build Prompt\n",
        "Generate **two BigQuery SQL cells**:\n",
        "1) Total rows and % missing in `region`, `plan_tier`, `age_band` from `users`.\n",
        "2) `% plan_tier missing by region` ordered descending. Add comments on MAR.\n"
      ],
      "id": "3hTtCpyDu2eK"
    },
    {
      "cell_type": "code",
      "metadata": {
        "colab": {
          "base_uri": "https://localhost:8080/"
        },
        "id": "WSdxC0E9u2eK",
        "outputId": "3ce2c76f-557f-4581-ff4b-f67935f580a2"
      },
      "execution_count": null,
      "outputs": [
        {
          "output_type": "stream",
          "name": "stdout",
          "text": [
            "Row((20600, 0.0, 0.0, 11.93), {'n': 0, 'pct_missing_country': 1, 'pct_missing_subscription_plan': 2, 'pct_missing_age': 3})\n"
          ]
        }
      ],
      "source": [
        "# EXAMPLE (from LLM) — Missingness profile (commented)\n",
        "import os\n",
        "from google.cloud import bigquery\n",
        "\n",
        "project_id = os.environ['GOOGLE_CLOUD_PROJECT']\n",
        "\n",
        "client = bigquery.Client(project=project_id)\n",
        "\n",
        "query = f\"\"\"\n",
        "-- Users: % missing per column\n",
        "WITH base AS (\n",
        "  SELECT COUNT(*) n,\n",
        "         COUNTIF(country IS NULL) miss_country,\n",
        "         COUNTIF(subscription_plan IS NULL) miss_plan,\n",
        "         COUNTIF(age IS NULL) miss_age\n",
        "  FROM `{project_id}.netflix.users`\n",
        ")\n",
        "SELECT n,\n",
        "       ROUND(100*miss_country/n,2) AS pct_missing_country,\n",
        "       ROUND(100*miss_plan/n,2)   AS pct_missing_subscription_plan,\n",
        "       ROUND(100*miss_age/n,2)    AS pct_missing_age\n",
        "FROM base;\n",
        "\"\"\"\n",
        "\n",
        "query_job = client.query(query)\n",
        "results = query_job.result()\n",
        "\n",
        "# Print the results\n",
        "for row in results:\n",
        "    print(row)"
      ],
      "id": "WSdxC0E9u2eK"
    },
    {
      "cell_type": "markdown",
      "metadata": {
        "id": "q8frcpHmu2eL"
      },
      "source": [
        "### Verification Prompt\n",
        "Generate a query that prints the three missingness percentages from (1), rounded to two decimals.\n"
      ],
      "id": "q8frcpHmu2eL"
    },
    {
      "cell_type": "code",
      "source": [
        "import os\n",
        "\n",
        "project_id = os.environ['GOOGLE_CLOUD_PROJECT']\n",
        "\n",
        "from google.cloud import bigquery\n",
        "\n",
        "client = bigquery.Client(project=project_id)\n",
        "\n",
        "query = f\"\"\"\n",
        "-- Verification: Print the three missingness percentages\n",
        "WITH base AS (\n",
        "  SELECT COUNT(*) n,\n",
        "         COUNTIF(country IS NULL) miss_country,\n",
        "         COUNTIF(subscription_plan IS NULL) miss_plan,\n",
        "         COUNTIF(age IS NULL) miss_age\n",
        "  FROM `{project_id}.netflix.users`\n",
        ")\n",
        "SELECT ROUND(100*miss_country/n,2) AS pct_missing_country,\n",
        "       ROUND(100*miss_plan/n,2)   AS pct_missing_subscription_plan,\n",
        "       ROUND(100*miss_age/n,2)    AS pct_missing_age\n",
        "FROM base;\n",
        "\"\"\"\n",
        "\n",
        "query_job = client.query(query)\n",
        "results = query_job.result()\n",
        "\n",
        "# Print the results\n",
        "for row in results:\n",
        "    print(row)"
      ],
      "metadata": {
        "colab": {
          "base_uri": "https://localhost:8080/"
        },
        "id": "7Sb_uGyczluJ",
        "outputId": "9532156c-91e2-4b79-badb-72b14af99f09"
      },
      "id": "7Sb_uGyczluJ",
      "execution_count": null,
      "outputs": [
        {
          "output_type": "stream",
          "name": "stdout",
          "text": [
            "Row((0.0, 0.0, 11.93), {'pct_missing_country': 0, 'pct_missing_subscription_plan': 1, 'pct_missing_age': 2})\n"
          ]
        }
      ]
    },
    {
      "cell_type": "markdown",
      "metadata": {
        "id": "2h6_5uVFu2eL"
      },
      "source": [
        "**Reflection:** Which columns are most missing? Hypothesize MCAR/MAR/MNAR and why."
      ],
      "id": "2h6_5uVFu2eL"
    },
    {
      "cell_type": "markdown",
      "metadata": {
        "id": "9f63d117"
      },
      "source": [
        "Based on the output of the previous cell, the `age` column is the most missing with 11.93% of values being null, while `country` and `subscription_plan` have no missing values in this dataset. It's difficult to definitively determine the missing data mechanism (MCAR/MAR/MNAR) without more information about how the data was collected. However, one hypothesis could be that `age` is Missing At Random (MAR) if the likelihood of `age` being missing depends on another variable in the dataset, such as the user's country or subscription plan, but not on the age itself. For example, certain countries or subscription plans might have different data collection methods or requirements that lead to age information being less frequently captured."
      ],
      "id": "9f63d117"
    },
    {
      "cell_type": "markdown",
      "source": [],
      "metadata": {
        "id": "JXdBPWB8z3oa"
      },
      "id": "JXdBPWB8z3oa"
    },
    {
      "cell_type": "markdown",
      "metadata": {
        "id": "a0bjnPEnu2eL"
      },
      "source": [
        "### 5.2 Duplicates (watch_history) — What & Why\n",
        "Find exact duplicate interaction records and keep **one best** per group (deterministic policy)."
      ],
      "id": "a0bjnPEnu2eL"
    },
    {
      "cell_type": "code",
      "source": [
        "project_id = os.environ['GOOGLE_CLOUD_PROJECT']\n",
        "\n",
        "client = bigquery.Client(project=project_id)\n",
        "\n",
        "query = f\"\"\"\n",
        "-- Report duplicate groups on (user_id, movie_id, watch_date, device_type) with counts (top 20)\n",
        "SELECT user_id, movie_id, watch_date, device_type, COUNT(*) AS dup_count\n",
        "FROM `{project_id}.netflix.watch_history`\n",
        "GROUP BY user_id, movie_id, watch_date, device_type\n",
        "HAVING dup_count > 1\n",
        "ORDER BY dup_count DESC\n",
        "LIMIT 20;\n",
        "\"\"\"\n",
        "\n",
        "query_job = client.query(query)\n",
        "results = query_job.result()\n",
        "\n",
        "# Print the results\n",
        "for row in results:\n",
        "    print(row)"
      ],
      "metadata": {
        "colab": {
          "base_uri": "https://localhost:8080/"
        },
        "id": "3qxp1PPj0EMu",
        "outputId": "c63c5e42-4608-4987-a219-74986643e9db"
      },
      "id": "3qxp1PPj0EMu",
      "execution_count": null,
      "outputs": [
        {
          "output_type": "stream",
          "name": "stdout",
          "text": [
            "Row(('user_03310', 'movie_0640', datetime.date(2024, 9, 8), 'Smart TV', 8), {'user_id': 0, 'movie_id': 1, 'watch_date': 2, 'device_type': 3, 'dup_count': 4})\n",
            "Row(('user_00391', 'movie_0893', datetime.date(2024, 8, 26), 'Laptop', 8), {'user_id': 0, 'movie_id': 1, 'watch_date': 2, 'device_type': 3, 'dup_count': 4})\n",
            "Row(('user_00472', 'movie_0719', datetime.date(2024, 12, 4), 'Laptop', 6), {'user_id': 0, 'movie_id': 1, 'watch_date': 2, 'device_type': 3, 'dup_count': 4})\n",
            "Row(('user_00965', 'movie_0991', datetime.date(2024, 2, 14), 'Desktop', 6), {'user_id': 0, 'movie_id': 1, 'watch_date': 2, 'device_type': 3, 'dup_count': 4})\n",
            "Row(('user_07981', 'movie_0094', datetime.date(2025, 11, 8), 'Laptop', 6), {'user_id': 0, 'movie_id': 1, 'watch_date': 2, 'device_type': 3, 'dup_count': 4})\n",
            "Row(('user_06746', 'movie_0858', datetime.date(2024, 1, 23), 'Smart TV', 6), {'user_id': 0, 'movie_id': 1, 'watch_date': 2, 'device_type': 3, 'dup_count': 4})\n",
            "Row(('user_01303', 'movie_0858', datetime.date(2025, 9, 3), 'Mobile', 6), {'user_id': 0, 'movie_id': 1, 'watch_date': 2, 'device_type': 3, 'dup_count': 4})\n",
            "Row(('user_00794', 'movie_0852', datetime.date(2024, 2, 9), 'Smart TV', 6), {'user_id': 0, 'movie_id': 1, 'watch_date': 2, 'device_type': 3, 'dup_count': 4})\n",
            "Row(('user_04899', 'movie_0142', datetime.date(2025, 1, 20), 'Desktop', 6), {'user_id': 0, 'movie_id': 1, 'watch_date': 2, 'device_type': 3, 'dup_count': 4})\n",
            "Row(('user_08681', 'movie_0332', datetime.date(2024, 6, 13), 'Laptop', 6), {'user_id': 0, 'movie_id': 1, 'watch_date': 2, 'device_type': 3, 'dup_count': 4})\n",
            "Row(('user_01143', 'movie_0166', datetime.date(2024, 5, 28), 'Laptop', 6), {'user_id': 0, 'movie_id': 1, 'watch_date': 2, 'device_type': 3, 'dup_count': 4})\n",
            "Row(('user_09331', 'movie_0073', datetime.date(2024, 3, 23), 'Smart TV', 6), {'user_id': 0, 'movie_id': 1, 'watch_date': 2, 'device_type': 3, 'dup_count': 4})\n",
            "Row(('user_01226', 'movie_0710', datetime.date(2024, 5, 30), 'Smart TV', 6), {'user_id': 0, 'movie_id': 1, 'watch_date': 2, 'device_type': 3, 'dup_count': 4})\n",
            "Row(('user_02549', 'movie_0428', datetime.date(2025, 4, 15), 'Mobile', 6), {'user_id': 0, 'movie_id': 1, 'watch_date': 2, 'device_type': 3, 'dup_count': 4})\n",
            "Row(('user_00249', 'movie_0203', datetime.date(2024, 8, 31), 'Laptop', 6), {'user_id': 0, 'movie_id': 1, 'watch_date': 2, 'device_type': 3, 'dup_count': 4})\n",
            "Row(('user_02601', 'movie_0230', datetime.date(2024, 7, 29), 'Smart TV', 6), {'user_id': 0, 'movie_id': 1, 'watch_date': 2, 'device_type': 3, 'dup_count': 4})\n",
            "Row(('user_07617', 'movie_0785', datetime.date(2024, 7, 14), 'Desktop', 6), {'user_id': 0, 'movie_id': 1, 'watch_date': 2, 'device_type': 3, 'dup_count': 4})\n",
            "Row(('user_08157', 'movie_0729', datetime.date(2025, 10, 26), 'Laptop', 6), {'user_id': 0, 'movie_id': 1, 'watch_date': 2, 'device_type': 3, 'dup_count': 4})\n",
            "Row(('user_06087', 'movie_0638', datetime.date(2025, 11, 14), 'Mobile', 6), {'user_id': 0, 'movie_id': 1, 'watch_date': 2, 'device_type': 3, 'dup_count': 4})\n",
            "Row(('user_04050', 'movie_0898', datetime.date(2025, 7, 5), 'Mobile', 6), {'user_id': 0, 'movie_id': 1, 'watch_date': 2, 'device_type': 3, 'dup_count': 4})\n"
          ]
        }
      ]
    },
    {
      "cell_type": "code",
      "metadata": {
        "colab": {
          "base_uri": "https://localhost:8080/"
        },
        "id": "13fa69a9",
        "outputId": "045d3346-b02a-4200-b15d-8e9577e97c0d"
      },
      "source": [
        "project_id = os.environ['GOOGLE_CLOUD_PROJECT']\n",
        "\n",
        "client = bigquery.Client(project=project_id)\n",
        "\n",
        "query = f\"\"\"\n",
        "-- Create table watch_history_dedup keeping one row per group\n",
        "CREATE OR REPLACE TABLE `{project_id}.netflix.watch_history_dedup` AS\n",
        "SELECT * EXCEPT(rk) FROM (\n",
        "  SELECT h.*,\n",
        "         ROW_NUMBER() OVER (\n",
        "           PARTITION BY user_id, movie_id, watch_date, device_type\n",
        "           ORDER BY progress_percentage DESC, watch_duration_minutes DESC\n",
        "         ) AS rk\n",
        "  FROM `{project_id}.netflix.watch_history` h\n",
        ")\n",
        "WHERE rk = 1;\n",
        "\"\"\"\n",
        "\n",
        "query_job = client.query(query)\n",
        "query_job.result()\n",
        "\n",
        "print(f\"Table `{project_id}.netflix.watch_history_dedup` created successfully.\")"
      ],
      "id": "13fa69a9",
      "execution_count": null,
      "outputs": [
        {
          "output_type": "stream",
          "name": "stdout",
          "text": [
            "Table `mgmt-471819-i5.netflix.watch_history_dedup` created successfully.\n"
          ]
        }
      ]
    },
    {
      "cell_type": "code",
      "metadata": {
        "colab": {
          "base_uri": "https://localhost:8080/"
        },
        "id": "cc65cef5",
        "outputId": "3f5dd78c-c32e-45b7-d48f-e63103d95b2d"
      },
      "source": [
        "project_id = os.environ['GOOGLE_CLOUD_PROJECT']\n",
        "client = bigquery.Client(project=project_id)\n",
        "\n",
        "query = f\"\"\"\n",
        "-- Verification: Before/after count query comparing raw vs watch_history_dedup\n",
        "SELECT 'watch_history_raw' AS table_name, COUNT(*) AS row_count FROM `{project_id}.netflix.watch_history`\n",
        "UNION ALL\n",
        "SELECT 'watch_history_dedup' AS table_name, COUNT(*) AS row_count FROM `{project_id}.netflix.watch_history_dedup`;\n",
        "\"\"\"\n",
        "\n",
        "query_job = client.query(query)\n",
        "results = query_job.result()\n",
        "\n",
        "# Print the results\n",
        "for row in results:\n",
        "    print(row)"
      ],
      "id": "cc65cef5",
      "execution_count": null,
      "outputs": [
        {
          "output_type": "stream",
          "name": "stdout",
          "text": [
            "Row(('watch_history_raw', 210000), {'table_name': 0, 'row_count': 1})\n",
            "Row(('watch_history_dedup', 100000), {'table_name': 0, 'row_count': 1})\n"
          ]
        }
      ]
    },
    {
      "cell_type": "markdown",
      "metadata": {
        "id": "sP4ugxEzu2eL"
      },
      "source": [
        "### Build Prompt\n",
        "Generate **two BigQuery SQL cells**:\n",
        "1) Report duplicate groups on `(user_id, movie_id, event_ts, device_type)` with counts (top 20).\n",
        "2) Create table `watch_history_dedup` that keeps one row per group (prefer higher `progress_ratio`, then `minutes_watched`). Add comments.\n"
      ],
      "id": "sP4ugxEzu2eL"
    },
    {
      "cell_type": "code",
      "source": [
        "\n",
        "project_id = os.environ['GOOGLE_CLOUD_PROJECT']\n",
        "\n",
        "client = bigquery.Client(project=project_id)\n",
        "\n",
        "query = f\"\"\"\n",
        "SELECT user_id, movie_id, watch_date, device_type, COUNT(*) AS dup_count\n",
        "FROM `{project_id}.netflix.watch_history`\n",
        "GROUP BY user_id, movie_id, watch_date, device_type\n",
        "HAVING dup_count > 1\n",
        "ORDER BY dup_count DESC\n",
        "LIMIT 20;\n",
        "\"\"\"\n",
        "\n",
        "query_job = client.query(query)\n",
        "results = query_job.result()\n",
        "\n",
        "# Print the results\n",
        "for row in results:\n",
        "    print(row)"
      ],
      "metadata": {
        "colab": {
          "base_uri": "https://localhost:8080/"
        },
        "id": "5Cg16gz81Bbf",
        "outputId": "bb8e2ddb-b63f-4b48-c56b-6a588ab217c0"
      },
      "id": "5Cg16gz81Bbf",
      "execution_count": null,
      "outputs": [
        {
          "output_type": "stream",
          "name": "stdout",
          "text": [
            "Row(('user_00391', 'movie_0893', datetime.date(2024, 8, 26), 'Laptop', 8), {'user_id': 0, 'movie_id': 1, 'watch_date': 2, 'device_type': 3, 'dup_count': 4})\n",
            "Row(('user_03310', 'movie_0640', datetime.date(2024, 9, 8), 'Smart TV', 8), {'user_id': 0, 'movie_id': 1, 'watch_date': 2, 'device_type': 3, 'dup_count': 4})\n",
            "Row(('user_00928', 'movie_0913', datetime.date(2024, 1, 18), 'Laptop', 6), {'user_id': 0, 'movie_id': 1, 'watch_date': 2, 'device_type': 3, 'dup_count': 4})\n",
            "Row(('user_05874', 'movie_0294', datetime.date(2025, 11, 26), 'Mobile', 6), {'user_id': 0, 'movie_id': 1, 'watch_date': 2, 'device_type': 3, 'dup_count': 4})\n",
            "Row(('user_01870', 'movie_0844', datetime.date(2024, 6, 2), 'Laptop', 6), {'user_id': 0, 'movie_id': 1, 'watch_date': 2, 'device_type': 3, 'dup_count': 4})\n",
            "Row(('user_06087', 'movie_0638', datetime.date(2025, 11, 14), 'Mobile', 6), {'user_id': 0, 'movie_id': 1, 'watch_date': 2, 'device_type': 3, 'dup_count': 4})\n",
            "Row(('user_01580', 'movie_0984', datetime.date(2025, 6, 25), 'Mobile', 6), {'user_id': 0, 'movie_id': 1, 'watch_date': 2, 'device_type': 3, 'dup_count': 4})\n",
            "Row(('user_06746', 'movie_0858', datetime.date(2024, 1, 23), 'Smart TV', 6), {'user_id': 0, 'movie_id': 1, 'watch_date': 2, 'device_type': 3, 'dup_count': 4})\n",
            "Row(('user_01182', 'movie_0794', datetime.date(2025, 7, 3), 'Desktop', 6), {'user_id': 0, 'movie_id': 1, 'watch_date': 2, 'device_type': 3, 'dup_count': 4})\n",
            "Row(('user_03140', 'movie_0205', datetime.date(2025, 9, 11), 'Desktop', 6), {'user_id': 0, 'movie_id': 1, 'watch_date': 2, 'device_type': 3, 'dup_count': 4})\n",
            "Row(('user_03898', 'movie_0500', datetime.date(2025, 7, 29), 'Desktop', 6), {'user_id': 0, 'movie_id': 1, 'watch_date': 2, 'device_type': 3, 'dup_count': 4})\n",
            "Row(('user_00244', 'movie_0145', datetime.date(2024, 6, 25), 'Smart TV', 6), {'user_id': 0, 'movie_id': 1, 'watch_date': 2, 'device_type': 3, 'dup_count': 4})\n",
            "Row(('user_02601', 'movie_0230', datetime.date(2024, 7, 29), 'Smart TV', 6), {'user_id': 0, 'movie_id': 1, 'watch_date': 2, 'device_type': 3, 'dup_count': 4})\n",
            "Row(('user_09822', 'movie_0145', datetime.date(2025, 11, 9), 'Laptop', 6), {'user_id': 0, 'movie_id': 1, 'watch_date': 2, 'device_type': 3, 'dup_count': 4})\n",
            "Row(('user_00564', 'movie_0234', datetime.date(2024, 1, 9), 'Laptop', 6), {'user_id': 0, 'movie_id': 1, 'watch_date': 2, 'device_type': 3, 'dup_count': 4})\n",
            "Row(('user_06402', 'movie_0684', datetime.date(2024, 7, 31), 'Smart TV', 6), {'user_id': 0, 'movie_id': 1, 'watch_date': 2, 'device_type': 3, 'dup_count': 4})\n",
            "Row(('user_01581', 'movie_0933', datetime.date(2024, 3, 30), 'Desktop', 6), {'user_id': 0, 'movie_id': 1, 'watch_date': 2, 'device_type': 3, 'dup_count': 4})\n",
            "Row(('user_03043', 'movie_0465', datetime.date(2024, 2, 3), 'Laptop', 6), {'user_id': 0, 'movie_id': 1, 'watch_date': 2, 'device_type': 3, 'dup_count': 4})\n",
            "Row(('user_01303', 'movie_0858', datetime.date(2025, 9, 3), 'Mobile', 6), {'user_id': 0, 'movie_id': 1, 'watch_date': 2, 'device_type': 3, 'dup_count': 4})\n",
            "Row(('user_04513', 'movie_0564', datetime.date(2024, 6, 11), 'Mobile', 6), {'user_id': 0, 'movie_id': 1, 'watch_date': 2, 'device_type': 3, 'dup_count': 4})\n"
          ]
        }
      ]
    },
    {
      "cell_type": "code",
      "metadata": {
        "colab": {
          "base_uri": "https://localhost:8080/"
        },
        "id": "63e8c3e5",
        "outputId": "eccb0275-4ad5-452a-8ded-89272c51cc8f"
      },
      "source": [
        "project_id = os.environ['GOOGLE_CLOUD_PROJECT']\n",
        "\n",
        "client = bigquery.Client(project=project_id)\n",
        "\n",
        "query = f\"\"\"\n",
        "-- Create table watch_history_dedup keeping one row per group\n",
        "CREATE OR REPLACE TABLE `{project_id}.netflix.watch_history_dedup` AS\n",
        "SELECT * EXCEPT(rk) FROM (\n",
        "  SELECT h.*,\n",
        "         ROW_NUMBER() OVER (\n",
        "           PARTITION BY user_id, movie_id, watch_date, device_type\n",
        "           ORDER BY progress_percentage DESC, watch_duration_minutes DESC\n",
        "         ) AS rk\n",
        "  FROM `{project_id}.netflix.watch_history` h\n",
        ")\n",
        "WHERE rk = 1;\n",
        "\"\"\"\n",
        "\n",
        "query_job = client.query(query)\n",
        "query_job.result()\n",
        "\n",
        "print(f\"Table `{project_id}.netflix.watch_history_dedup` created successfully.\")"
      ],
      "id": "63e8c3e5",
      "execution_count": null,
      "outputs": [
        {
          "output_type": "stream",
          "name": "stdout",
          "text": [
            "Table `mgmt-471819-i5.netflix.watch_history_dedup` created successfully.\n"
          ]
        }
      ]
    },
    {
      "cell_type": "markdown",
      "metadata": {
        "id": "bTG-hZ4Vu2eM"
      },
      "source": [
        "### Verification Prompt\n",
        "Generate a before/after count query comparing raw vs `watch_history_dedup`.\n"
      ],
      "id": "bTG-hZ4Vu2eM"
    },
    {
      "cell_type": "code",
      "metadata": {
        "colab": {
          "base_uri": "https://localhost:8080/"
        },
        "id": "a0263970",
        "outputId": "dae25383-f988-45a5-bb5f-84def57d9ef4"
      },
      "source": [
        "import os\n",
        "\n",
        "project_id = os.environ['GOOGLE_CLOUD_PROJECT']\n",
        "\n",
        "from google.cloud import bigquery\n",
        "\n",
        "client = bigquery.Client(project=project_id)\n",
        "\n",
        "query = f\"\"\"\n",
        "-- Verification: Before/after count query comparing raw vs watch_history_dedup\n",
        "SELECT 'watch_history_raw' AS table_name, COUNT(*) AS row_count FROM `{project_id}.netflix.watch_history`\n",
        "UNION ALL\n",
        "SELECT 'watch_history_dedup' AS table_name, COUNT(*) AS row_count FROM `{project_id}.netflix.watch_history_dedup`;\n",
        "\"\"\"\n",
        "\n",
        "query_job = client.query(query)\n",
        "results = query_job.result()\n",
        "\n",
        "# Print the results\n",
        "for row in results:\n",
        "    print(row)"
      ],
      "id": "a0263970",
      "execution_count": null,
      "outputs": [
        {
          "output_type": "stream",
          "name": "stdout",
          "text": [
            "Row(('watch_history_dedup', 100000), {'table_name': 0, 'row_count': 1})\n",
            "Row(('watch_history_raw', 210000), {'table_name': 0, 'row_count': 1})\n"
          ]
        }
      ]
    },
    {
      "cell_type": "markdown",
      "metadata": {
        "id": "50ALomEhu2eM"
      },
      "source": [
        "**Reflection:** Why do duplicates arise (natural vs system-generated)? How do they corrupt labels and KPIs?"
      ],
      "id": "50ALomEhu2eM"
    },
    {
      "cell_type": "markdown",
      "metadata": {
        "id": "8a700f61"
      },
      "source": [
        "Duplicates can arise from both natural processes (e.g., a user accidentally submitting the same form twice) or system-generated issues (e.g., errors in data collection, ETL processes, or data merging). Regardless of the source, duplicates corrupt labels and KPIs by artificially inflating counts and distorting aggregations. For instance, duplicate watch history records would overcount viewing time, leading to inaccurate engagement metrics. In machine learning, duplicates can bias models by giving undue weight to the duplicated observations, potentially leading to poor generalization on clean data."
      ],
      "id": "8a700f61"
    },
    {
      "cell_type": "markdown",
      "metadata": {
        "id": "IVyfPagyu2eM"
      },
      "source": [
        "### 5.3 Outliers (minutes_watched) — What & Why\n",
        "Estimate extreme values via IQR; report % outliers; **winsorize** to P01/P99 for robustness while also **flagging** extremes."
      ],
      "id": "IVyfPagyu2eM"
    },
    {
      "cell_type": "markdown",
      "metadata": {
        "id": "TgfA-NA9u2eN"
      },
      "source": [
        "### Build Prompt\n",
        "Generate **two BigQuery SQL cells**:\n",
        "1) Compute IQR bounds for `minutes_watched` on `watch_history_dedup` and report % outliers.\n",
        "2) Create `watch_history_robust` with `minutes_watched_capped` capped at P01/P99; return quantile summaries before/after.\n"
      ],
      "id": "TgfA-NA9u2eN"
    },
    {
      "cell_type": "code",
      "source": [
        "project_id = os.environ['GOOGLE_CLOUD_PROJECT']\n",
        "client = bigquery.Client(project=project_id)\n",
        "query = f\"\"\"\n",
        "-- Compute IQR bounds for watch_duration_minutes on watch_history_dedup and report % outliers\n",
        "WITH dist AS (\n",
        "  SELECT\n",
        "    APPROX_QUANTILES(watch_duration_minutes, 4)[OFFSET(1)] AS q1,\n",
        "    APPROX_QUANTILES(watch_duration_minutes, 4)[OFFSET(3)] AS q3\n",
        "  FROM `{project_id}.netflix.watch_history_dedup`\n",
        "),\n",
        "bounds AS (\n",
        "  SELECT q1, q3, (q3-q1) AS iqr,\n",
        "         q1 - 1.5*(q3-q1) AS lo,\n",
        "         q3 + 1.5*(q3-q1) AS hi\n",
        "  FROM dist\n",
        ")\n",
        "SELECT\n",
        "  COUNTIF(h.watch_duration_minutes < b.lo OR h.watch_duration_minutes > b.hi) AS outliers,\n",
        "  COUNT(*) AS total,\n",
        "  ROUND(100*COUNTIF(h.watch_duration_minutes < b.lo OR h.watch_duration_minutes > b.hi)/COUNT(*),2) AS pct_outliers\n",
        "FROM `{project_id}.netflix.watch_history_dedup` h\n",
        "CROSS JOIN bounds b;\n",
        "\"\"\"\n",
        "query_job = client.query(query)\n",
        "results = query_job.result()\n",
        "\n",
        "# Print the results\n",
        "for row in results:\n",
        "    print(row)"
      ],
      "metadata": {
        "colab": {
          "base_uri": "https://localhost:8080/"
        },
        "id": "A_k4F-IC2D4c",
        "outputId": "8cf6b63e-8725-4f19-a570-6dd7b4c58a3b"
      },
      "id": "A_k4F-IC2D4c",
      "execution_count": null,
      "outputs": [
        {
          "output_type": "stream",
          "name": "stdout",
          "text": [
            "Row((3482, 100000, 3.48), {'outliers': 0, 'total': 1, 'pct_outliers': 2})\n"
          ]
        }
      ]
    },
    {
      "cell_type": "code",
      "metadata": {
        "colab": {
          "base_uri": "https://localhost:8080/"
        },
        "id": "089bb963",
        "outputId": "7d947072-007f-47d9-ecf6-7a8814a4b8cb"
      },
      "source": [
        "import os\n",
        "from google.cloud import bigquery\n",
        "\n",
        "project_id = os.environ['GOOGLE_CLOUD_PROJECT']\n",
        "client = bigquery.Client(project=project_id)\n",
        "\n",
        "query_create_table = f\"\"\"\n",
        "-- Create watch_history_robust with watch_duration_minutes_capped capped at P01/P99\n",
        "CREATE OR REPLACE TABLE `{project_id}.netflix.watch_history_robust` AS\n",
        "WITH q AS (\n",
        "  SELECT\n",
        "    APPROX_QUANTILES(watch_duration_minutes, 100)[OFFSET(1)]  AS p01,\n",
        "    APPROX_QUANTILES(watch_duration_minutes, 100)[OFFSET(99)] AS p99\n",
        "  FROM `{project_id}.netflix.watch_history_dedup`\n",
        ")\n",
        "SELECT\n",
        "  h.*,\n",
        "  GREATEST(q.p01, LEAST(q.p99, h.watch_duration_minutes)) AS watch_duration_minutes_capped\n",
        "FROM `{project_id}.netflix.watch_history_dedup` h, q;\n",
        "\"\"\"\n",
        "\n",
        "query_job_create_table = client.query(query_create_table)\n",
        "query_job_create_table.result()\n",
        "\n",
        "print(f\"Table `{project_id}.netflix.watch_history_robust` created successfully.\")\n",
        "\n",
        "# Quantiles before vs after\n",
        "query_quantiles = f\"\"\"\n",
        "-- Quantiles before vs after capping\n",
        "WITH before AS (\n",
        "  SELECT 'before' AS which, APPROX_QUANTILES(watch_duration_minutes, 5) AS q\n",
        "  FROM `{project_id}.netflix.watch_history_dedup`\n",
        "),\n",
        "after AS (\n",
        "  SELECT 'after' AS which, APPROX_QUANTILES(watch_duration_minutes_capped, 5) AS q\n",
        "  FROM `{project_id}.netflix.watch_history_robust`\n",
        ")\n",
        "SELECT * FROM before UNION ALL SELECT * FROM after;\n",
        "\"\"\"\n",
        "\n",
        "query_job_quantiles = client.query(query_quantiles)\n",
        "# Store the result iterator in a variable\n",
        "results_iterator = query_job_quantiles.result()\n",
        "\n",
        "# Print the results\n",
        "print(\"\\nQuantiles before vs after capping:\")\n",
        "for row in results_iterator:\n",
        "    print(row)"
      ],
      "id": "089bb963",
      "execution_count": null,
      "outputs": [
        {
          "output_type": "stream",
          "name": "stdout",
          "text": [
            "Table `mgmt-471819-i5.netflix.watch_history_robust` created successfully.\n",
            "\n",
            "Quantiles before vs after capping:\n",
            "Row(('after', [4.4, 24.6, 41.5, 61.5, 92.0, 366.0]), {'which': 0, 'q': 1})\n",
            "Row(('before', [0.2, 24.8, 41.7, 61.2, 91.8, 799.3]), {'which': 0, 'q': 1})\n"
          ]
        }
      ]
    },
    {
      "cell_type": "markdown",
      "metadata": {
        "id": "KkH4DhCpu2eN"
      },
      "source": [
        "### Verification Prompt\n",
        "Generate a query that shows min/median/max before vs after capping.\n"
      ],
      "id": "KkH4DhCpu2eN"
    },
    {
      "cell_type": "code",
      "source": [
        "project_id = os.environ['GOOGLE_CLOUD_PROJECT']\n",
        "client = bigquery.Client(project=project_id)\n",
        "\n",
        "query = f\"\"\"\n",
        "-- Verification: Min/median/max before vs after capping\n",
        "WITH before AS (\n",
        "  SELECT 'before' AS which,\n",
        "         MIN(watch_duration_minutes) AS min_val,\n",
        "         APPROX_QUANTILES(watch_duration_minutes, 2)[OFFSET(1)] AS median_val,\n",
        "         MAX(watch_duration_minutes) AS max_val\n",
        "  FROM `{project_id}.netflix.watch_history_dedup`\n",
        "),\n",
        "after AS (\n",
        "  SELECT 'after' AS which,\n",
        "         MIN(watch_duration_minutes_capped) AS min_val,\n",
        "         APPROX_QUANTILES(watch_duration_minutes_capped, 2)[OFFSET(1)] AS median_val,\n",
        "         MAX(watch_duration_minutes_capped) AS max_val\n",
        "  FROM `{project_id}.netflix.watch_history_robust`\n",
        ")\n",
        "SELECT * FROM before UNION ALL SELECT * FROM after;\n",
        "\"\"\"\n",
        "\n",
        "query_job = client.query(query)\n",
        "results = query_job.result()\n",
        "\n",
        "# Print the results\n",
        "for row in results:\n",
        "    print(row)"
      ],
      "metadata": {
        "colab": {
          "base_uri": "https://localhost:8080/"
        },
        "id": "IDkgxbV52zY0",
        "outputId": "79ef9717-6512-40c1-deca-2dda453e18dc"
      },
      "id": "IDkgxbV52zY0",
      "execution_count": null,
      "outputs": [
        {
          "output_type": "stream",
          "name": "stdout",
          "text": [
            "Row(('after', 4.4, 51.4, 366.0), {'which': 0, 'min_val': 1, 'median_val': 2, 'max_val': 3})\n",
            "Row(('before', 0.2, 51.1, 799.3), {'which': 0, 'min_val': 1, 'median_val': 2, 'max_val': 3})\n"
          ]
        }
      ]
    },
    {
      "cell_type": "markdown",
      "metadata": {
        "id": "sqfnTOgtu2eN"
      },
      "source": [
        "**Reflection:** When might capping be harmful? Name a model type less sensitive to outliers and why."
      ],
      "id": "sqfnTOgtu2eN"
    },
    {
      "cell_type": "markdown",
      "metadata": {
        "id": "f437e588"
      },
      "source": [
        "Capping, while useful for handling extreme values, might be harmful when the outliers represent genuine, important data points that hold valuable information, or when the underlying distribution is naturally heavy-tailed. Removing or altering these values can lead to a loss of information and potentially biased analysis or model training. Tree-based models, such as decision trees and random forests, are generally less sensitive to outliers because they make decisions based on splitting data at certain thresholds rather than relying on the magnitude of individual data points as linear models do."
      ],
      "id": "f437e588"
    },
    {
      "cell_type": "markdown",
      "metadata": {
        "id": "Tqcb4Uc8u2eN"
      },
      "source": [
        "### 5.4 Business anomaly flags — What & Why\n",
        "Human-readable flags help both product decisioning and ML features (e.g., binge behavior)."
      ],
      "id": "Tqcb4Uc8u2eN"
    },
    {
      "cell_type": "markdown",
      "metadata": {
        "id": "DuZk-Z8iu2eN"
      },
      "source": [
        "### Build Prompt\n",
        "Generate **three BigQuery SQL cells** (adjust if columns differ):\n",
        "1) In `watch_history_robust`, compute and summarize `flag_binge` for sessions > 8 hours.\n",
        "2) In `users`, compute and summarize `flag_age_extreme` if age can be parsed from `age_band` (<10 or >100).\n",
        "3) In `movies`, compute and summarize `flag_duration_anomaly` where `duration_min` < 15 or > 480 (if exists).\n",
        "Each cell should output count and percentage and include 1–2 comments.\n"
      ],
      "id": "DuZk-Z8iu2eN"
    },
    {
      "cell_type": "code",
      "source": [
        "project_id = os.environ['GOOGLE_CLOUD_PROJECT']\n",
        "client = bigquery.Client(project=project_id)\n",
        "\n",
        "query = f\"\"\"\n",
        "-- In watch_history_robust, compute and summarize flag_binge for sessions > 8 hours\n",
        "SELECT\n",
        "  COUNTIF(watch_duration_minutes_capped > 8*60) AS sessions_over_8h,\n",
        "  COUNT(*) AS total,\n",
        "  ROUND(100*COUNTIF(watch_duration_minutes_capped > 8*60)/COUNT(*),2) AS pct\n",
        "FROM `{project_id}.netflix.watch_history_robust`;\n",
        "\"\"\"\n",
        "\n",
        "query_job = client.query(query)\n",
        "results = query_job.result()\n",
        "\n",
        "# Print the results\n",
        "for row in results:\n",
        "    print(row)"
      ],
      "metadata": {
        "colab": {
          "base_uri": "https://localhost:8080/"
        },
        "id": "gjEgpucY3paD",
        "outputId": "4d6cd205-f6aa-4ec7-d266-bf1aaccfd8f0"
      },
      "id": "gjEgpucY3paD",
      "execution_count": null,
      "outputs": [
        {
          "output_type": "stream",
          "name": "stdout",
          "text": [
            "Row((0, 100000, 0.0), {'sessions_over_8h': 0, 'total': 1, 'pct': 2})\n"
          ]
        }
      ]
    },
    {
      "cell_type": "code",
      "metadata": {
        "colab": {
          "base_uri": "https://localhost:8080/"
        },
        "id": "94e53ea9",
        "outputId": "43794456-fa9b-462b-d2df-658be53febdb"
      },
      "source": [
        "\n",
        "query = f\"\"\"\n",
        "-- In users, compute and summarize flag_age_extreme if age is <10 or >100\n",
        "SELECT\n",
        "  COUNTIF(age < 10 OR age > 100) AS extreme_age_rows,\n",
        "  COUNT(*) AS total,\n",
        "  ROUND(100*COUNTIF(age < 10 OR age > 100)/COUNT(*),2) AS pct\n",
        "FROM `{project_id}.netflix.users`;\n",
        "\"\"\"\n",
        "\n",
        "query_job = client.query(query)\n",
        "results = query_job.result()\n",
        "\n",
        "# Print the results\n",
        "for row in results:\n",
        "    print(row)"
      ],
      "id": "94e53ea9",
      "execution_count": null,
      "outputs": [
        {
          "output_type": "stream",
          "name": "stdout",
          "text": [
            "Row((358, 20600, 1.74), {'extreme_age_rows': 0, 'total': 1, 'pct': 2})\n"
          ]
        }
      ]
    },
    {
      "cell_type": "code",
      "metadata": {
        "id": "zyLCjJfKu2eO"
      },
      "execution_count": null,
      "outputs": [],
      "source": [
        "# # EXAMPLE (from LLM) — flag_duration_anomaly (commented)\n",
        "# # SELECT\n",
        "# #   COUNTIF(duration_min < 15) AS titles_under_15m,\n",
        "# #   COUNTIF(duration_min > 8*60) AS titles_over_8h,\n",
        "# #   COUNT(*) AS total\n",
        "# # FROM `${GOOGLE_CLOUD_PROJECT}.netflix.movies`;"
      ],
      "id": "zyLCjJfKu2eO"
    },
    {
      "cell_type": "code",
      "source": [
        "\n",
        "query = f\"\"\"\n",
        "-- In movies, compute and summarize flag_duration_anomaly where duration_minutes < 15 or > 480\n",
        "SELECT\n",
        "  COUNTIF(duration_minutes < 15) AS titles_under_15m,\n",
        "  COUNTIF(duration_minutes > 480) AS titles_over_480m,\n",
        "  COUNT(*) AS total,\n",
        "  ROUND(100*COUNTIF(duration_minutes < 15 OR duration_minutes > 480)/COUNT(*),2) AS pct_duration_anomaly\n",
        "FROM `{project_id}.netflix.movies`;\n",
        "\"\"\"\n",
        "\n",
        "query_job = client.query(query)\n",
        "results = query_job.result()\n",
        "\n",
        "# Print the results\n",
        "for row in results:\n",
        "    print(row)"
      ],
      "metadata": {
        "colab": {
          "base_uri": "https://localhost:8080/"
        },
        "id": "NnJE3dCd4UvZ",
        "outputId": "17932c20-b497-4358-8c39-72ecb9459b89"
      },
      "id": "NnJE3dCd4UvZ",
      "execution_count": null,
      "outputs": [
        {
          "output_type": "stream",
          "name": "stdout",
          "text": [
            "Row((24, 22, 2080, 2.21), {'titles_under_15m': 0, 'titles_over_480m': 1, 'total': 2, 'pct_duration_anomaly': 3})\n"
          ]
        }
      ]
    },
    {
      "cell_type": "markdown",
      "metadata": {
        "id": "bHYuJ3Ixu2eO"
      },
      "source": [
        "### Verification Prompt\n",
        "Generate a single compact summary query that returns two columns per flag: `flag_name, pct_of_rows`.\n"
      ],
      "id": "bHYuJ3Ixu2eO"
    },
    {
      "cell_type": "code",
      "source": [
        "query = f\"\"\"\n",
        "-- Verification: Compact summary query for all flags\n",
        "WITH\n",
        "  binge_summary AS (\n",
        "    SELECT 'flag_binge' AS flag_name, ROUND(100*COUNTIF(watch_duration_minutes_capped > 8*60)/COUNT(*),2) AS pct_of_rows\n",
        "    FROM `{project_id}.netflix.watch_history_robust`\n",
        "  ),\n",
        "  age_summary AS (\n",
        "    SELECT 'flag_age_extreme' AS flag_name, ROUND(100*COUNTIF(age < 10 OR age > 100)/COUNT(*),2) AS pct_of_rows\n",
        "    FROM `{project_id}.netflix.users`\n",
        "  ),\n",
        "  duration_summary AS (\n",
        "    SELECT 'flag_duration_anomaly' AS flag_name, ROUND(100*COUNTIF(duration_minutes < 15 OR duration_minutes > 480)/COUNT(*),2) AS pct_of_rows\n",
        "    FROM `{project_id}.netflix.movies`\n",
        "  )\n",
        "SELECT * FROM binge_summary\n",
        "UNION ALL SELECT * FROM age_summary\n",
        "UNION ALL SELECT * FROM duration_summary;\n",
        "\"\"\"\n",
        "\n",
        "query_job = client.query(query)\n",
        "results = query_job.result()\n",
        "\n",
        "# Print the results\n",
        "for row in results:\n",
        "    print(row)"
      ],
      "metadata": {
        "colab": {
          "base_uri": "https://localhost:8080/"
        },
        "id": "JAxF1wrm4qSL",
        "outputId": "680f44c0-209a-4dba-ddde-3f41c1ddf767"
      },
      "id": "JAxF1wrm4qSL",
      "execution_count": null,
      "outputs": [
        {
          "output_type": "stream",
          "name": "stdout",
          "text": [
            "Row(('flag_binge', 0.0), {'flag_name': 0, 'pct_of_rows': 1})\n",
            "Row(('flag_age_extreme', 1.74), {'flag_name': 0, 'pct_of_rows': 1})\n",
            "Row(('flag_duration_anomaly', 2.21), {'flag_name': 0, 'pct_of_rows': 1})\n"
          ]
        }
      ]
    },
    {
      "cell_type": "markdown",
      "metadata": {
        "id": "1bTi29dtu2eO"
      },
      "source": [
        "**Reflection:** Which anomaly flag is most common? Which would you keep as a feature and why?"
      ],
      "id": "1bTi29dtu2eO"
    },
    {
      "cell_type": "markdown",
      "metadata": {
        "id": "753eeddc"
      },
      "source": [
        "Based on the verification query results, the `flag_duration_anomaly` is the most common at 2.21% of rows, followed by `flag_age_extreme` at 1.74%, while `flag_binge` is 0.0%. I would keep all of them as features, especially `flag_duration_anomaly` and `flag_age_extreme` due to their non-zero occurrence. These flags represent potentially interesting behaviors or data issues that could be valuable for downstream analysis or machine learning models. For instance, `flag_duration_anomaly` might indicate issues with movie metadata or unusual viewing patterns, while `flag_age_extreme` could highlight data entry errors or a small segment of the user base with potentially unique behavior. Even if the percentage is low, these flags can help identify edge cases or specific user segments that might require different handling or analysis."
      ],
      "id": "753eeddc"
    },
    {
      "cell_type": "markdown",
      "metadata": {
        "id": "IjvbD8xxu2eO"
      },
      "source": [
        "## 6) Save & submit — What & Why\n",
        "Reproducibility: save artifacts and document decisions so others can rerun and audit."
      ],
      "id": "IjvbD8xxu2eO"
    },
    {
      "cell_type": "markdown",
      "metadata": {
        "id": "OdAQNpVBu2eO"
      },
      "source": [
        "### Build Prompt\n",
        "Generate a checklist (Markdown) students can paste at the end:\n",
        "- Save this notebook to the team Drive.\n",
        "- Export a `.sql` file with your DQ queries and save to repo.\n",
        "- Push notebook + SQL to the **team GitHub** with a descriptive commit.\n",
        "- Add a README with your `PROJECT_ID`, `REGION`, bucket, dataset, and today’s row counts.\n"
      ],
      "id": "OdAQNpVBu2eO"
    },
    {
      "cell_type": "code",
      "metadata": {
        "colab": {
          "base_uri": "https://localhost:8080/"
        },
        "id": "afc31152",
        "outputId": "670071e2-9c36-461f-818d-23d189618fa1"
      },
      "source": [
        "import re\n",
        "import os\n",
        "import json\n",
        "\n",
        "# Define the path for the SQL file\n",
        "sql_file_path = 'dq_queries.sql'\n",
        "# Define the path to the current notebook file\n",
        "notebook_path = '/content/drive/MyDrive/MGMT467/Unit2_Lab1_PromptPlusExamples_Colab_Kaggle_GCS_BQ_DQ(Final).ipynb' # **IMPORTANT: Replace with the actual path to your notebook**\n",
        "\n",
        "# Initialize an empty string to store SQL queries\n",
        "all_sql_queries = \"\"\n",
        "\n",
        "try:\n",
        "    # Read the notebook content from the file\n",
        "    with open(notebook_path, 'r') as f:\n",
        "        notebook_content = json.load(f)\n",
        "\n",
        "    # Iterate through cells and extract SQL queries from code cells\n",
        "    for cell in notebook_content.get('cells', []):\n",
        "        if cell.get('cell_type') == 'code':\n",
        "            code_content = \"\".join(cell.get('source', [])) # Join list of lines into a single string\n",
        "            # Look for lines that contain BigQuery query patterns (e.g., SELECT, WITH, --, CREATE, etc.)\n",
        "            # This regex looks for lines starting with SQL keywords or comments within code cells\n",
        "            sql_lines = re.findall(r\"^\\s*(SELECT|WITH|--|CREATE|ALTER|DROP|INSERT|UPDATE|DELETE).*$\", code_content, re.MULTILINE | re.IGNORECASE)\n",
        "            if sql_lines:\n",
        "                 # A more reliable way to extract the full query might be to look for multi-line strings\n",
        "                 # often used for SQL queries in Python code.\n",
        "                 query_match = re.search(r\"query\\s*=\\s*f?\\\"\\\"\\\"(.*?)\\\"\\\"\\\"\", code_content, re.DOTALL)\n",
        "                 if query_match:\n",
        "                    all_sql_queries += f\"-- Query from cell (potentially): {cell.get('metadata', {}).get('id', 'unknown')}\\n\"\n",
        "                    all_sql_queries += query_match.group(1).strip() + \";\\n\\n\"\n",
        "\n",
        "\n",
        "    # Write the extracted queries to the SQL file\n",
        "    with open(sql_file_path, 'w') as f:\n",
        "        f.write(all_sql_queries)\n",
        "\n",
        "    print(f\"SQL queries exported to {sql_file_path}\")\n",
        "\n",
        "    # You would then use git commands in a shell cell to add and commit this file to your repo\n",
        "    # Example:\n",
        "    # !git add dq_queries.sql\n",
        "    # !git commit -m \"Export DQ queries\"\n",
        "    # !git push\n",
        "\n",
        "except FileNotFoundError:\n",
        "    print(f\"Error: Notebook file not found at {notebook_path}. Please update the 'notebook_path' variable with the correct path.\")\n",
        "except Exception as e:\n",
        "    print(f\"An error occurred: {e}\")"
      ],
      "id": "afc31152",
      "execution_count": 11,
      "outputs": [
        {
          "output_type": "stream",
          "name": "stdout",
          "text": [
            "SQL queries exported to dq_queries.sql\n"
          ]
        }
      ]
    },
    {
      "cell_type": "markdown",
      "metadata": {
        "id": "Hj802bb7u2eO"
      },
      "source": [
        "## Grading rubric (quick)\n",
        "- Profiling completeness (30)  \n",
        "- Cleaning policy correctness & reproducibility (40)  \n",
        "- Reflection/insight (20)  \n",
        "- Hygiene (naming, verification, idempotence) (10)\n"
      ],
      "id": "Hj802bb7u2eO"
    }
  ],
  "metadata": {
    "kernelspec": {
      "display_name": "Python 3",
      "name": "python3"
    },
    "colab": {
      "provenance": []
    }
  },
  "nbformat": 4,
  "nbformat_minor": 5
}